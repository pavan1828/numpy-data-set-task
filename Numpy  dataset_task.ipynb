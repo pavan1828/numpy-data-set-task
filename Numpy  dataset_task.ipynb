{
 "cells": [
  {
   "cell_type": "code",
   "execution_count": 3,
   "id": "481da221",
   "metadata": {},
   "outputs": [
    {
     "data": {
      "text/plain": [
       "array([[  0.  ,  16.99,   1.01, ...,   1.  ,   0.  ,   2.  ],\n",
       "       [  1.  ,  10.34,   1.66, ...,   1.  ,   0.  ,   3.  ],\n",
       "       [  2.  ,  21.01,   3.5 , ...,   1.  ,   0.  ,   3.  ],\n",
       "       ...,\n",
       "       [241.  ,  22.67,   2.  , ...,   0.  ,   0.  ,   2.  ],\n",
       "       [242.  ,  17.82,   1.75, ...,   0.  ,   0.  ,   2.  ],\n",
       "       [243.  ,  18.78,   3.  , ...,   2.  ,   0.  ,   2.  ]])"
      ]
     },
     "execution_count": 3,
     "metadata": {},
     "output_type": "execute_result"
    }
   ],
   "source": [
    "import numpy as np\n",
    "from numpy import genfromtxt\n",
    "\n",
    "\n",
    "fpath=r\"C:\\Users\\pc\\Downloads\\tipsf.csv\"\n",
    "data_set= genfromtxt(fpath, delimiter=',', skip_header = True)\n",
    "data_set"
   ]
  },
  {
   "cell_type": "markdown",
   "id": "2fed6205",
   "metadata": {},
   "source": [
    "# 1. What is the total bill value"
   ]
  },
  {
   "cell_type": "code",
   "execution_count": 4,
   "id": "8703aaec",
   "metadata": {},
   "outputs": [
    {
     "name": "stdout",
     "output_type": "stream",
     "text": [
      "Total Bill :  4827.77\n"
     ]
    }
   ],
   "source": [
    "tb= np.sum(data_set[:,1])\n",
    "print('Total Bill : ',tb)"
   ]
  },
  {
   "cell_type": "markdown",
   "id": "92712702",
   "metadata": {},
   "source": [
    "# 2. What is the total tip value"
   ]
  },
  {
   "cell_type": "code",
   "execution_count": 5,
   "id": "a3768846",
   "metadata": {},
   "outputs": [
    {
     "name": "stdout",
     "output_type": "stream",
     "text": [
      "Total Tip :  731.5799999999999\n"
     ]
    }
   ],
   "source": [
    "totaltip = np.sum(data_set[:,2])\n",
    "print('Total Tip : ',totaltip)"
   ]
  },
  {
   "cell_type": "markdown",
   "id": "3a771c2e",
   "metadata": {},
   "source": [
    "# 3. Count how many Sunday,Saturday,Thursday,Friday are there"
   ]
  },
  {
   "cell_type": "code",
   "execution_count": 6,
   "id": "be5b1382",
   "metadata": {},
   "outputs": [
    {
     "name": "stdout",
     "output_type": "stream",
     "text": [
      "Sunday : 87\n",
      "Saturday : 76\n",
      "Friday : 62\n",
      "Thursday : 19\n"
     ]
    }
   ],
   "source": [
    "\n",
    "column = data_set[:, 5]\n",
    "unique_values, counts = np.unique(column, return_counts=True)\n",
    "\n",
    "days_of_week = ['Sunday', 'Saturday', 'Friday', 'Thursday']\n",
    "\n",
    "for day, count in zip(days_of_week, counts):\n",
    "    print(f'{day} : {count}')\n"
   ]
  },
  {
   "cell_type": "markdown",
   "id": "7ef3bd4f",
   "metadata": {},
   "source": [
    "# 4. How many smokers are there"
   ]
  },
  {
   "cell_type": "code",
   "execution_count": 7,
   "id": "eef6c879",
   "metadata": {},
   "outputs": [
    {
     "name": "stdout",
     "output_type": "stream",
     "text": [
      "Smokers : 93.0\n"
     ]
    }
   ],
   "source": [
    "smokers= np.sum(data_set[:,4])\n",
    "print('Smokers :', smokers)"
   ]
  },
  {
   "cell_type": "markdown",
   "id": "e69faa32",
   "metadata": {},
   "source": [
    "# 5. What is the avg Tip given by Male and Female"
   ]
  },
  {
   "cell_type": "code",
   "execution_count": 8,
   "id": "1331bca8",
   "metadata": {},
   "outputs": [
    {
     "name": "stdout",
     "output_type": "stream",
     "text": [
      "Average tip  males: 2.8334482758620685\n",
      "Average tip  females: 3.0896178343949043\n"
     ]
    }
   ],
   "source": [
    "Tip = data[:, 2]\n",
    "sex = data[:, 3]\n",
    "\n",
    "tip_male = np.mean(Tip[sex == 0])\n",
    "tip_female = np.mean(Tip[sex == 1])\n",
    "\n",
    "print(\"Average tip  males:\", tip_male)\n",
    "print(\"Average tip  females:\", tip_female)"
   ]
  },
  {
   "cell_type": "markdown",
   "id": "31f37e8d",
   "metadata": {},
   "source": [
    "#  6. How much Amount have been spent bye Male and Female"
   ]
  },
  {
   "cell_type": "code",
   "execution_count": 9,
   "id": "14c6369c",
   "metadata": {},
   "outputs": [
    {
     "name": "stdout",
     "output_type": "stream",
     "text": [
      "Amount spent  males: 1570.9499999999998\n",
      "Amount spent  females: 3256.8199999999997\n"
     ]
    }
   ],
   "source": [
    "total_bill = data[:, 1]\n",
    "sex = data[:, 3]\n",
    "\n",
    "total_bill_male = np.sum(np.where(sex == 0, total_bill, 0)) #create a new array with total_bill values, otherwise fill with 0\n",
    "total_bill_female = np.sum(np.where(sex == 1, total_bill, 0))\n",
    "\n",
    "print(\"Amount spent  males:\", total_bill_male)\n",
    "print(\"Amount spent  females:\", total_bill_female)\n"
   ]
  },
  {
   "cell_type": "markdown",
   "id": "a32013ae",
   "metadata": {},
   "source": [
    "# 7. What is the min and max tip given"
   ]
  },
  {
   "cell_type": "code",
   "execution_count": 10,
   "id": "876030be",
   "metadata": {},
   "outputs": [
    {
     "name": "stdout",
     "output_type": "stream",
     "text": [
      "Min Tip : 1.0\n"
     ]
    }
   ],
   "source": [
    "tip=np.min(data_set[:,2])\n",
    "print('Min Tip :',tip)"
   ]
  },
  {
   "cell_type": "code",
   "execution_count": 12,
   "id": "f3f50996",
   "metadata": {},
   "outputs": [
    {
     "name": "stdout",
     "output_type": "stream",
     "text": [
      "Max Tip : 10.0\n"
     ]
    }
   ],
   "source": [
    "tip=np.max(data_set[:,2])\n",
    "print('Max Tip :',tip)"
   ]
  },
  {
   "cell_type": "markdown",
   "id": "3ec1871b",
   "metadata": {},
   "source": [
    "# 8.How many Male and Females are going for Lunch and Dinner"
   ]
  },
  {
   "cell_type": "markdown",
   "id": "dbbbf7e6",
   "metadata": {},
   "source": [
    "**Lunch**"
   ]
  },
  {
   "cell_type": "code",
   "execution_count": 15,
   "id": "de77b594",
   "metadata": {},
   "outputs": [
    {
     "name": "stdout",
     "output_type": "stream",
     "text": [
      "Number of male  going to lunch: 35\n",
      "Number of female going tolunch: 33\n"
     ]
    }
   ],
   "source": [
    "sex = data_set[:,3]\n",
    "time = data_set[:,6]\n",
    "\n",
    "male_lunch = np.sum((sex == 0) & (time == 1))\n",
    "female_lunch = np.sum((sex == 1) & (time == 1))\n",
    "\n",
    "print(\"Number of male  going to lunch:\", male_lunch )\n",
    "print(\"Number of female going tolunch:\",female_lunch)"
   ]
  },
  {
   "cell_type": "markdown",
   "id": "7d281fe8",
   "metadata": {},
   "source": [
    "**dinner**"
   ]
  },
  {
   "cell_type": "code",
   "execution_count": 16,
   "id": "67e6e76d",
   "metadata": {},
   "outputs": [
    {
     "name": "stdout",
     "output_type": "stream",
     "text": [
      "Number of male going to Dinner: 52\n",
      "Number of female going to Dinner: 124\n"
     ]
    }
   ],
   "source": [
    "sex = data_set[:,3]\n",
    "time = data_set[:,6]\n",
    "\n",
    "male_dinner = np.sum((sex == 0) & (time == 0))\n",
    "female_dinner = np.sum((sex == 1) & (time == 0))\n",
    "\n",
    "\n",
    "print(\"Number of male going to Dinner:\", male_dinner )\n",
    "print(\"Number of female going to Dinner:\",female_dinner)"
   ]
  },
  {
   "cell_type": "markdown",
   "id": "185ff13d",
   "metadata": {},
   "source": [
    "# 9. Find out the average size"
   ]
  },
  {
   "cell_type": "code",
   "execution_count": 19,
   "id": "9bcb3fbc",
   "metadata": {},
   "outputs": [
    {
     "name": "stdout",
     "output_type": "stream",
     "text": [
      "Average Size:  2.569672131147541\n"
     ]
    }
   ],
   "source": [
    "average=np.mean(data_set[:,7])\n",
    "print('Average Size: ', average)"
   ]
  },
  {
   "cell_type": "markdown",
   "id": "d3ffdb69",
   "metadata": {},
   "source": [
    "# 10. How many Female smokers are there and Male smokers are there\n"
   ]
  },
  {
   "cell_type": "code",
   "execution_count": 21,
   "id": "84829b3b",
   "metadata": {},
   "outputs": [
    {
     "name": "stdout",
     "output_type": "stream",
     "text": [
      "MaleSmokers: 33 FemaleSmokers:  60\n"
     ]
    }
   ],
   "source": [
    "gender=(data_set[:,3])\n",
    "smokers=(data_set[:,4])\n",
    "male_smokers=np.sum((gender==0) & (smokers==1))\n",
    "female_smokers=np.sum((gender==1) & (smokers==1))\n",
    "print('MaleSmokers:',male_smokers,'FemaleSmokers: ',female_smokers)"
   ]
  },
  {
   "cell_type": "code",
   "execution_count": null,
   "id": "2fb322ba",
   "metadata": {},
   "outputs": [],
   "source": []
  }
 ],
 "metadata": {
  "kernelspec": {
   "display_name": "Python 3 (ipykernel)",
   "language": "python",
   "name": "python3"
  },
  "language_info": {
   "codemirror_mode": {
    "name": "ipython",
    "version": 3
   },
   "file_extension": ".py",
   "mimetype": "text/x-python",
   "name": "python",
   "nbconvert_exporter": "python",
   "pygments_lexer": "ipython3",
   "version": "3.9.13"
  }
 },
 "nbformat": 4,
 "nbformat_minor": 5
}
